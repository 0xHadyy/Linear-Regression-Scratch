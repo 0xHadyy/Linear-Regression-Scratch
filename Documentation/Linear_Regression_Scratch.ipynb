{
 "cells": [
  {
   "cell_type": "markdown",
   "id": "7ff9ddfb-7923-4906-81aa-d4246428ff44",
   "metadata": {},
   "source": [
    "# Linear Regression From Scratch "
   ]
  },
  {
   "cell_type": "markdown",
   "id": "8aec970d-4d76-4750-96a0-892a671fb8d5",
   "metadata": {},
   "source": [
    "This document is the full implementation of the **Linear Regression** using only **NumPy**, lets get started :\n",
    "### **Core imports**"
   ]
  },
  {
   "cell_type": "code",
   "execution_count": 1,
   "id": "1ad1fb11-7d60-4537-95dd-cd6ed54f7457",
   "metadata": {},
   "outputs": [],
   "source": [
    "import numpy as np\n",
    "import matplotlib.pyplot as plt"
   ]
  },
  {
   "cell_type": "markdown",
   "id": "f1c8e792-7fc4-478a-8601-9ac240d42560",
   "metadata": {},
   "source": [
    "- **numpy** for vector and matrix manipulation\n",
    "- **matplotlib** for plotting important diagnostics and visualizations "
   ]
  },
  {
   "cell_type": "markdown",
   "id": "e0a84a56-5c1e-44ef-b527-314b9179d7e0",
   "metadata": {},
   "source": [
    "### Options and Utils "
   ]
  },
  {
   "cell_type": "code",
   "execution_count": 2,
   "id": "617f7f7e-fd1c-49bc-920c-e5d99694c678",
   "metadata": {},
   "outputs": [],
   "source": [
    "np.set_printoptions(precision=4, suppress=True, linewidth=100)"
   ]
  },
  {
   "cell_type": "code",
   "execution_count": 3,
   "id": "1f06798e-dd0d-4f5e-9dc0-07a3eba26c75",
   "metadata": {},
   "outputs": [],
   "source": [
    "def is_invertible(A):\n",
    "    return np.linalg.matrix_rank(A) == A.shape[0]"
   ]
  },
  {
   "cell_type": "markdown",
   "id": "38e9ebff-eeac-4f60-a83e-d32e10518ed3",
   "metadata": {},
   "source": [
    "## **Generating data**\n",
    "---\n",
    "Before implementing the core functionalities of Linear Regression, we create a function that generate dummy data where we controle the number of **observations** \\$n$ and variables  $p$ , while also knowing the true forms of our **coefficients** β̂ which will be useful to see how accurate our estimates to the generate data"
   ]
  },
  {
   "cell_type": "code",
   "execution_count": 4,
   "id": "c3a1fa83-9602-41b2-9657-87015c0111ec",
   "metadata": {},
   "outputs": [],
   "source": [
    "def generate_dummy_data(n=10000, p=3, noise_std=1.0, seed=420):\n",
    "    np.random.seed(seed)\n",
    "    X_raw = np.random.randn(n, p - 1)  "
   ]
  },
  {
   "cell_type": "markdown",
   "id": "d6a9014b-e77a-46bd-a31e-8ca88428e5c9",
   "metadata": {},
   "source": [
    "- Generating our features matrix  `X_raw`"
   ]
  },
  {
   "cell_type": "code",
   "execution_count": 5,
   "id": "4ee734e3-f184-4854-b6c8-a6ea0a2b3a36",
   "metadata": {},
   "outputs": [],
   "source": [
    "def generate_dummy_data(n=10000, p=3, noise_std=1.0, seed=420):\n",
    "    np.random.seed(seed)\n",
    "\n",
    "    X_raw = np.random.randn(n, p - 1) \n",
    "    \n",
    "    intercept = np.ones((n, 1))  \n",
    "\n",
    "    X = np.hstack([intercept, X_raw])"
   ]
  },
  {
   "cell_type": "markdown",
   "id": "73ea7f60-6722-4fb0-812e-2e3f3c587fb7",
   "metadata": {},
   "source": [
    "- Generating our intercept vector which can be constant non zero values\n",
    "- Horizontally stacking the features matrix `X_raw` and the intercept vector to obtain our **Design matrix** \\$X$"
   ]
  },
  {
   "cell_type": "code",
   "execution_count": 6,
   "id": "230ee1a7-caf8-4218-9e6e-c61b7d136295",
   "metadata": {},
   "outputs": [],
   "source": [
    "def generate_dummy_data(n=10000, p=3, noise_std=1.0, seed=420):\n",
    "    np.random.seed(seed)\n",
    "\n",
    "    X_raw = np.random.randn(\n",
    "        n, p - 1\n",
    "    ) \n",
    "    intercept = np.ones((n, 1)) \n",
    "\n",
    "    X = np.hstack([intercept, X_raw])\n",
    "\n",
    "    beta_true = np.array([3] + [2] * (p - 1)) \n",
    "    \n",
    "    noise = np.random.randn(n) * noise_std  \n",
    "    \n",
    "    y = X @ beta_true + noise \n",
    "    \n",
    "    return X, y, beta_true, noise"
   ]
  },
  {
   "cell_type": "markdown",
   "id": "6a225e7f-e2db-4c07-943c-6aad224ff134",
   "metadata": {},
   "source": [
    "- `beta_true` is an array that contains the true intercept $\\beta_{0}=3$ $\\beta_{p-1}=2$\n",
    "    - For testing purposes we make the assumption that all the coefficients are equal\n",
    "- `noise` is the irreducible error, the variance we get for modeling data into a linear equation\n",
    "- `y` is the true predicted value which is also the **true regression line** that we will estimate later"
   ]
  },
  {
   "cell_type": "markdown",
   "id": "353d7265-7bf3-438f-a3a8-d0a1dcf8409a",
   "metadata": {},
   "source": [
    "## **Phase 1 : Core Math & Implementation**"
   ]
  },
  {
   "cell_type": "markdown",
   "id": "86ae6b25-77d8-44c1-a3a1-5c86715932dc",
   "metadata": {},
   "source": [
    "### Ordinary Least Sqaures \n",
    "---\n",
    "The **OLS** method is the core concept to fit a regression model done by calculting the **closed-form** (estimate) of the model coefficients $\\beta=(X^TX)^{-1}  X^T Y$"
   ]
  },
  {
   "cell_type": "code",
   "execution_count": 7,
   "id": "32e61e31-0ea1-410f-a938-4135848e3838",
   "metadata": {},
   "outputs": [],
   "source": [
    "def ols_estimate(X, Y):\n",
    "    X_transpose = X.T  \n",
    "    gram_matrix = X_transpose @ X\n",
    "    if not is_invertible(gram_matrix):\n",
    "        raise ValueError(f\"The gram matrix with shape{gram_matrix.shape} is sningular\")"
   ]
  },
  {
   "cell_type": "markdown",
   "id": "23169c7b-4387-480c-87d4-bea2926dbdfb",
   "metadata": {},
   "source": [
    "Before calculting the estimated coefficient matrix $\\hat{\\beta}$, we need :\n",
    "- Transpose of the **Design Matrix** $X$\n",
    "- Gram matrix which is the inverse of $X^TX$"
   ]
  },
  {
   "cell_type": "code",
   "execution_count": 8,
   "id": "1ade24a8-e12d-44bc-9db3-18e094be4ea2",
   "metadata": {},
   "outputs": [],
   "source": [
    "def ols_estimate(X, Y):\n",
    "    \n",
    "    X_transpose = X.T  \n",
    "    \n",
    "    gram_matrix = X_transpose @ X\n",
    "    \n",
    "    if not is_invertible(gram_matrix):\n",
    "        raise ValueError(f\"The gram matrix with shape{gram_matrix.shape} is sningular\")\n",
    "        \n",
    "    beta_hat = (np.linalg.inv(gram_matrix) @ X_transpose @ Y)  \n",
    "    \n",
    "    return beta_hat, gram_matrix "
   ]
  },
  {
   "cell_type": "markdown",
   "id": "5a44d40f-7626-403b-8f2a-8bc1cd778934",
   "metadata": {},
   "source": [
    "- Returning `beta_hat` which is the estimated coefficient the `gram_matrix` which gonan be useful for future calculations"
   ]
  },
  {
   "cell_type": "code",
   "execution_count": 9,
   "id": "87d14bef-5ec9-43fc-adab-aaad70121357",
   "metadata": {},
   "outputs": [
    {
     "name": "stdout",
     "output_type": "stream",
     "text": [
      "This is the estimated Coefficient are : \n",
      " [2.9851 1.9937 2.006 ]\n"
     ]
    }
   ],
   "source": [
    "X,Y,beta_true,noise = generate_dummy_data()\n",
    "beta_hat_ols,gram_matrix = ols_estimate(X,Y)\n",
    "print(\"This is the estimated Coefficient are : \\n\",beta_hat_ols)"
   ]
  },
  {
   "cell_type": "code",
   "execution_count": 10,
   "id": "ed141c0d-1f37-4c2b-995a-437bccd3b4c8",
   "metadata": {},
   "outputs": [
    {
     "name": "stdout",
     "output_type": "stream",
     "text": [
      "This is the Gram matrix \n",
      "[[10000.        13.433    -61.6067]\n",
      " [   13.433   9958.9931    15.7982]\n",
      " [  -61.6067    15.7982  9877.0084]]\n"
     ]
    },
    {
     "data": {
      "text/plain": [
       "(3, 3)"
      ]
     },
     "execution_count": 10,
     "metadata": {},
     "output_type": "execute_result"
    }
   ],
   "source": [
    "print(f\"This is the Gram matrix \\n{gram_matrix}\")\n",
    "gram_matrix.shape"
   ]
  },
  {
   "cell_type": "markdown",
   "id": "ce902ee3-abd6-4d3a-b1f1-45feef2e0832",
   "metadata": {},
   "source": [
    "- The Gram matrix shows the relati"
   ]
  },
  {
   "cell_type": "markdown",
   "id": "1a291c9c-e681-4995-b53f-ea34bc369d3e",
   "metadata": {},
   "source": [
    "### Gradient Descent\n",
    "---\n",
    "While the **OLS** method is simple and work great but when dealing with large amount of observations $n$ and variables $p$ taking the inverse of a matrix gonne be so costly.\n",
    "\n",
    "Thats where **Gradient Descent** comes its an **iterative** algorithm that adjuest the estimation each iteration till it arrives to the *almost* correct one "
   ]
  },
  {
   "cell_type": "code",
   "execution_count": 11,
   "id": "94c30132-3f28-4ded-a7d1-2386d69764e2",
   "metadata": {},
   "outputs": [],
   "source": [
    "def gradient_descent(y, X, alpha, batch_size, n, p, n_iters):\n",
    "    y = y.reshape(-1, 1)\n",
    "    beta_hat = np.zeros((p, 1))"
   ]
  },
  {
   "cell_type": "markdown",
   "id": "7b180233-4e4e-48e9-bcfc-cab21248de8a",
   "metadata": {},
   "source": [
    "- The **Gradient Descent** function takes in `alpha` and `batch_size` which are called hyperparameters\n",
    "    - **Batch size** is how much data we use each update\n",
    "    - **alpha** is the Learning rate $->$ the step size \n",
    "- `n_iters` is times we update till we stop \n",
    "- `y.reshape(-1,1)` is to transform the response into a column vector with $n \\times 1$"
   ]
  },
  {
   "cell_type": "code",
   "execution_count": 12,
   "id": "5196c76f-c751-4bcc-a15a-14eb87443d3c",
   "metadata": {},
   "outputs": [],
   "source": [
    "def gradient_descent(y, X, alpha, batch_size, n, p, n_iters):\n",
    "    y = y.reshape(-1, 1)\n",
    "    beta_hat = np.zeros((p, 1))\n",
    "    \n",
    "    for i in range(n_iters):\n",
    "        idx = np.random.choice(n, size=batch_size, replace=False)\n",
    "        Xb = X[idx]\n",
    "        yb = y[idx].reshape(-1, 1)\n",
    "        y_hat = Xb @ beta_hat\n",
    "        RSS = y_hat - yb\n",
    "        gradient_mse = (Xb.T @ RSS) / batch_size\n",
    "        beta_hat_new = beta_hat - alpha * gradient_mse\n",
    "\n",
    "        if np.linalg.norm(beta_hat_new - beta_hat) < 1e-6:\n",
    "            break\n",
    "            \n",
    "        beta_hat = beta_hat_new\n",
    "    return beta_hat"
   ]
  },
  {
   "cell_type": "markdown",
   "id": "9a9aa7f2-e889-47ed-af38-014f7348e63b",
   "metadata": {},
   "source": [
    "- Both `Xb` and `yb` are randomly sampled pair of observation-response\n",
    "- `gradient_mse` is the mean squared error that the algorithm calculate each time to get closer to the correct estimates\n",
    "- `beta_hat_new` is the updated estimate after each step\n",
    "- `break` if the difference between the old estimate and the new estimate is small and not significant anymore"
   ]
  },
  {
   "cell_type": "code",
   "execution_count": 13,
   "id": "781fbce3-e982-4d01-af32-c4ae732e3a1e",
   "metadata": {},
   "outputs": [
    {
     "name": "stdout",
     "output_type": "stream",
     "text": [
      "The estimated coefficients using Gradient Descent are : \n",
      " [[2.9896]\n",
      " [1.9921]\n",
      " [2.008 ]]\n",
      "\n",
      "This is the estimated Coefficient using OLS are : \n",
      " [2.9851 1.9937 2.006 ]\n"
     ]
    }
   ],
   "source": [
    "X,Y,beta_true,noise = generate_dummy_data()\n",
    "beta_hat_GD =gradient_descent(Y,X,0.01,500,10000,3,50000)\n",
    "print(\"The estimated coefficients using Gradient Descent are : \\n\",beta_hat_GD)\n",
    "\n",
    "beta_hat_ols,gram_matrix = ols_estimate(X,Y)\n",
    "print(\"\\nThis is the estimated Coefficient using OLS are : \\n\",beta_hat_ols)"
   ]
  },
  {
   "cell_type": "markdown",
   "id": "bb1cc261-25e7-46e1-b56c-86735e12cdb0",
   "metadata": {},
   "source": [
    "- As you can notice both methods produced the same results "
   ]
  },
  {
   "cell_type": "markdown",
   "id": "ce2a5876-508a-49a8-b689-76bf2d877ed6",
   "metadata": {},
   "source": [
    "### Measn Squared Error (MSE)\n",
    "---\n",
    "As the name imply its the sum (mean) squared of the difference between the **true prediction** and the **estimate prediction** "
   ]
  },
  {
   "cell_type": "code",
   "execution_count": 14,
   "id": "0b26df94-ef5d-4f6b-b394-f84188b4cdd4",
   "metadata": {},
   "outputs": [],
   "source": [
    "def mean_squared_error(y, y_hat, p, n):\n",
    "    residuals = y - y_hat\n",
    "    RSS = np.sum(residuals**2)"
   ]
  },
  {
   "cell_type": "markdown",
   "id": "cec26499-12a0-44d1-a027-eea9c6f6e81d",
   "metadata": {},
   "source": [
    "- We calculate `RSS` the **residual squared sum** "
   ]
  },
  {
   "cell_type": "code",
   "execution_count": 15,
   "id": "91a812cd-c5e8-4cf7-a4b9-0959861c9005",
   "metadata": {},
   "outputs": [],
   "source": [
    "def mean_squared_error(y, y_hat, p, n):\n",
    "\n",
    "    residuals = y - y_hat\n",
    "    RSS = np.sum(residuals**2)\n",
    "\n",
    "    if n - p <= 0:\n",
    "        raise ValueError(f\"Degrees of freedom (n-p) must be >0, got n={n},p={p}\")\n",
    "    MSE = RSS / (n - p)\n",
    "    \n",
    "    return MSE, RSS"
   ]
  },
  {
   "cell_type": "markdown",
   "id": "27d6d97b-7a22-45d4-a1a4-d9d4e25254f1",
   "metadata": {},
   "source": [
    "- Deviding by the Degrees of freedom to make it unbaised  to get the **Mean Squared Error** \n",
    "- Returning both `MSE` and `RSS` for future use "
   ]
  },
  {
   "cell_type": "markdown",
   "id": "be7ed900-dd52-4e41-b54f-8b0d23c6f5a9",
   "metadata": {},
   "source": [
    "### **Prediction**\n",
    "---\n",
    "After calculating the estimates for the coefficients $\\beta$, we can create this prediction function"
   ]
  },
  {
   "cell_type": "code",
   "execution_count": 16,
   "id": "48a118e8-1dee-4537-a623-3d17b1e67e1f",
   "metadata": {},
   "outputs": [],
   "source": [
    "def predict(X, beta_hat):\n",
    "    \n",
    "    y_hat = X @ beta_hat\n",
    "    \n",
    "    return y_hat"
   ]
  },
  {
   "cell_type": "markdown",
   "id": "12c0ea2c-ffe6-4aef-a0f2-bac7e6154938",
   "metadata": {},
   "source": [
    "- It simply multiply the **Design matrix** with estimated coefficients vector $\\beta$\n",
    "- Returns the estimated prediction $\\hat{y}$"
   ]
  },
  {
   "cell_type": "code",
   "execution_count": 17,
   "id": "54483bb7-eb5d-46a1-8e2c-3de48b08cb7c",
   "metadata": {},
   "outputs": [],
   "source": [
    "Y_hat = predict(X,beta_hat_ols)\n",
    "MSE,RSS = mean_squared_error(Y,Y_hat,3,10000)\n",
    "residuals = Y-Y_hat"
   ]
  },
  {
   "cell_type": "code",
   "execution_count": 18,
   "id": "422cace5-f9ca-4dcf-ba41-dd11b1d02dfa",
   "metadata": {},
   "outputs": [
    {
     "data": {
      "image/png": "[encoded data removed]",
      "text/plain": [
       "<Figure size 640x480 with 1 Axes>"
      ]
     },
     "metadata": {},
     "output_type": "display_data"
    }
   ],
   "source": [
    "plt.scatter(Y_hat,residuals)\n",
    "plt.axhline(0,color='red',linestyle=\"--\")\n",
    "plt.xlabel(\"Predicted Y\")\n",
    "plt.ylabel(\"RSS\")\n",
    "plt.title(\"RSS vs Predicted\")\n",
    "plt.show();"
   ]
  },
  {
   "cell_type": "markdown",
   "id": "4453e02b-6851-4b68-a26c-b059340aa577",
   "metadata": {},
   "source": [
    "\n",
    "\n",
    "### Phase 1 Conclusion:\n",
    "\n",
    "- Both **OLS** and **Gradient Descent** achive the same goal while both using different approaches with each one having it use cases and pros and cons (more details in the  githu repository)"
   ]
  },
  {
   "cell_type": "markdown",
   "id": "4d51aac7-3776-4f05-9517-e9bfdf14a7c2",
   "metadata": {},
   "source": [
    "## **Phase 2: Statistical Inference**\n",
    "---\n",
    "\n",
    "This Phase we asses the estimated **coefficients** (parameters) $\\hat{\\beta}$, to see how close our estimated values to the true ones: \n",
    "- Standard Error\n",
    "- Confidence interval\n",
    "- F-test "
   ]
  },
  {
   "cell_type": "markdown",
   "id": "d2902d0c-2ff6-461d-a154-32e1e4fea58c",
   "metadata": {},
   "source": [
    "### **Standard Error for $\\hat{\\beta}$**\n",
    "---"
   ]
  },
  {
   "cell_type": "markdown",
   "id": "cf692cf0-f4c6-457f-bfd1-f6b64c06b8e7",
   "metadata": {},
   "source": [
    "The standard Error is calculated by square root of the **variance** in the estimated **coefficient** $\\hat{\\beta}$, which can be derived from the closed form of $\\beta$ (Check [GitHub](https://github.com/0xHadyy/Linear-Regression-Scratch) repository for derivations) "
   ]
  },
  {
   "cell_type": "code",
   "execution_count": 19,
   "id": "aafc6527-f51e-42a2-9ddb-f6f9160eebc8",
   "metadata": {},
   "outputs": [],
   "source": [
    "def standard_error_beta(mse, gram_matrix):\n",
    "    \n",
    "    if not is_invertible(gram_matrix):\n",
    "        raise ValueError(\"The Gram matrix is signular\")\n",
    "\n",
    "    inv_gram_matrix = np.linalg.inv(gram_matrix)\n",
    "    \n",
    "    beta_hat_variance = (mse * inv_gram_matrix)  # The diagonal represent the variances, while off-diagonal are the covarianec"
   ]
  },
  {
   "cell_type": "markdown",
   "id": "03dac269-2a88-418d-ab6f-2af1cea50332",
   "metadata": {},
   "source": [
    "- To calculate the variance in the estimated **coefficient**, we need both the **MSE**(sample standard deviation) and the **Gram matrix**\n",
    "- `beta_hat_variance` is a square matrix with its diagonal representing the **variances**, while off-diagonal are the **covariances**"
   ]
  },
  {
   "cell_type": "code",
   "execution_count": 20,
   "id": "a6970318-be65-421a-a121-0b46916d0529",
   "metadata": {},
   "outputs": [],
   "source": [
    "def standard_error_beta(mse, gram_matrix):\n",
    "    \n",
    "    if not is_invertible(gram_matrix):\n",
    "        raise ValueError(\"The Gram matrix is signular\")\n",
    "\n",
    "    inv_gram_matrix = np.linalg.inv(gram_matrix)\n",
    "    \n",
    "    beta_hat_variance = (mse * inv_gram_matrix) \n",
    "\n",
    "    beta_hat_standard_error = np.sqrt(np.diag(beta_hat_variance)) \n",
    "    \n",
    "    return beta_hat_variance, beta_hat_standard_error"
   ]
  },
  {
   "cell_type": "markdown",
   "id": "a90230be-030a-4f26-88f0-f6ec8f09a8f9",
   "metadata": {},
   "source": [
    "- `beta_standard_error` is the square root onl the **diagonal** elements of the `beta_hat_variance` matrix"
   ]
  },
  {
   "cell_type": "code",
   "execution_count": 21,
   "id": "0517599c-45b2-4bda-8ca3-3f6eaece8d6b",
   "metadata": {},
   "outputs": [
    {
     "name": "stdout",
     "output_type": "stream",
     "text": [
      "[0.0102 0.0102 0.0102]\n"
     ]
    }
   ],
   "source": [
    "beta_var, se_beta = standard_error_beta(MSE,gram_matrix)\n",
    "print(se_beta)"
   ]
  },
  {
   "cell_type": "markdown",
   "id": "99d82b4d-f062-4192-ae08-8a4c0e3697f2",
   "metadata": {},
   "source": [
    "- As you can notice the **standard error** equal across all the coefficients $\\hat{\\beta}$, cause all our coefficients are equal you can test by randomize the values and u will get other different results across all  parameters"
   ]
  },
  {
   "cell_type": "markdown",
   "id": "96737256-ca18-4a28-b220-bab4424c15fd",
   "metadata": {},
   "source": [
    "### **Confidence interval for Estimated $\\beta$**\n",
    "---"
   ]
  },
  {
   "cell_type": "markdown",
   "id": "d2234924-5df3-415d-9794-7ec6bbfac96f",
   "metadata": {},
   "source": [
    "After calculting the **Standard error** in the estimated coefficient vector $SE(\\hat{\\beta})$, we can use it to construct a **Confidence interval** for $\\hat{\\beta}$"
   ]
  },
  {
   "cell_type": "code",
   "execution_count": 22,
   "id": "56ef1542-ea69-4878-8cf8-5e4945fb5dfc",
   "metadata": {},
   "outputs": [],
   "source": [
    "def confidence_interval_beta(beta_hat, standard_error, df, t_critical_95):\n",
    "    closest_df = min(t_critical_95, key=lambda x: abs(x - df))\n",
    "    t_value = t_critical_95[closest_df]"
   ]
  },
  {
   "cell_type": "markdown",
   "id": "1dad68fc-6ff3-405b-bd3e-9cc21364a8c1",
   "metadata": {},
   "source": [
    "- Following the  formula of the **confidence interval**, First we need to calculate:\n",
    "    - `t-value` for the closest or equal **Degree of freedom**\n",
    "    - `t_critical_95` is a python dictionary that contains all value for a $95\\%$ confidence $\\to$ $\\alpha=0.05$"
   ]
  },
  {
   "cell_type": "code",
   "execution_count": 23,
   "id": "8d6a82cf-4c64-4cd4-873f-1aaa74b4b868",
   "metadata": {},
   "outputs": [],
   "source": [
    "t_table = {\n",
    "    1: 12.706,\n",
    "    2: 4.303,\n",
    "    3: 3.182,\n",
    "    4: 2.776,\n",
    "    5: 2.571,\n",
    "    6: 2.447,\n",
    "    7: 2.365,\n",
    "    8: 2.306,\n",
    "    9: 2.262,\n",
    "    10: 2.228,\n",
    "    11: 2.201,\n",
    "    12: 2.179,\n",
    "    13: 2.160,\n",
    "    14: 2.145,\n",
    "    15: 2.131,\n",
    "    16: 2.120,\n",
    "    17: 2.110,\n",
    "    18: 2.101,\n",
    "    19: 2.093,\n",
    "    20: 2.086,\n",
    "    21: 2.080,\n",
    "    22: 2.074,\n",
    "    23: 2.069,\n",
    "    24: 2.064,\n",
    "    25: 2.060,\n",
    "    26: 2.056,\n",
    "    27: 2.052,\n",
    "    28: 2.048,\n",
    "    29: 2.045,\n",
    "    30: 2.042,\n",
    "    40: 2.021,\n",
    "    60: 2.000,\n",
    "    120: 1.980,\n",
    "    float(\"inf\"): 1.960,  # Z‐value approximation\n",
    "}"
   ]
  },
  {
   "cell_type": "code",
   "execution_count": 24,
   "id": "d8f0d579-b999-4d09-8f44-ccc44deeb01a",
   "metadata": {},
   "outputs": [],
   "source": [
    "def confidence_interval_beta(beta_hat, standard_error, df, t_critical_95):\n",
    "    closest_df = min(t_critical_95, key=lambda x: abs(x - df))\n",
    "    t_value = t_critical_95[closest_df]\n",
    "    upper_bound = beta_hat + (t_value * standard_error)\n",
    "    lower_bound = beta_hat - (t_value * standard_error)\n",
    "    confidence_interval = np.stack((lower_bound, upper_bound))\n",
    "    return confidence_interval"
   ]
  },
  {
   "cell_type": "code",
   "execution_count": 25,
   "id": "f8b8bdef-9f2f-4ab4-9caf-72adfc04064c",
   "metadata": {},
   "outputs": [
    {
     "name": "stdout",
     "output_type": "stream",
     "text": [
      "[[2.9528 3.0174]\n",
      " [1.9614 2.0261]\n",
      " [1.9735 2.0385]]\n"
     ]
    }
   ],
   "source": [
    "beta_CI= confidence_interval_beta(beta_hat_ols,se_beta,3,t_table)\n",
    "print(beta_CI.T)"
   ]
  },
  {
   "cell_type": "markdown",
   "id": "61f78dba-4be6-4268-9165-9c9e11ae74dc",
   "metadata": {},
   "source": [
    "- This rows of this matrix are the confidence intervals for each coefficient"
   ]
  },
  {
   "cell_type": "markdown",
   "id": "d17cf601-8f3f-4566-82c9-fed8f001085d",
   "metadata": {},
   "source": [
    "### **F-statistic** :\n",
    "---\n",
    "- Also know as **f-test** its a way to test the **hypothesis** that there is no relationship between the **respnse** $Y$ and Predictors $X$, and that fitting the **Linear regression** equation didn't explain the variance in the  original data"
   ]
  },
  {
   "cell_type": "code",
   "execution_count": 26,
   "id": "c7eecc7a-1815-4d3c-9e82-c3537b78d006",
   "metadata": {},
   "outputs": [],
   "source": [
    "def f_statistic(RSS, y, p, n):\n",
    "    \n",
    "    y_mean = np.mean(y)\n",
    "    \n",
    "    TSS = np.sum((y - y_mean) ** 2)\n",
    "    if p == 0:\n",
    "        raise ValueError(\"invalid Features number\")\n",
    "        \n",
    "    numerator = (TSS - RSS) / p\n",
    "    \n",
    "    denominator = RSS / (n - p - 1)\n",
    "    \n",
    "    f_test = numerator / denominator\n",
    "\n",
    "    return f_test, TSS"
   ]
  },
  {
   "cell_type": "markdown",
   "id": "6bbdd11e-e04c-4410-97f2-864b1c486351",
   "metadata": {},
   "source": [
    "- The `f_test` is the amount of variance our regression explained\n",
    "- if it equal to $\\sigma^2$ means that our null hypothesis is true and there is no relationship between the response and predictors\n",
    "<br>Note : Look up **F-Table**"
   ]
  },
  {
   "cell_type": "code",
   "execution_count": 27,
   "id": "299e79fe-eacc-4e95-9bf1-27f2dbbc8854",
   "metadata": {},
   "outputs": [
    {
     "name": "stdout",
     "output_type": "stream",
     "text": [
      "the f-score is : 25704.5270\n"
     ]
    }
   ],
   "source": [
    "f_score, TSS = f_statistic(RSS,Y,3,10000)\n",
    "print(f\"the f-score is : {f_score:.4f}\")"
   ]
  },
  {
   "cell_type": "markdown",
   "id": "62bacad9-06dc-4db7-bd45-e4ce284dfd69",
   "metadata": {},
   "source": [
    "## **Phase 3 : Model Evaluation**\n",
    "---\n",
    "Discussing methods and ways to evaluate how well our model fits the data\n",
    "\n",
    "1. Residual Standard Error\n",
    "2. R-Squared\n",
    "3. Prediction interval\n",
    "4. F-test"
   ]
  },
  {
   "cell_type": "markdown",
   "id": "7a7144d6-9e66-456d-9b2a-4d79a94a537a",
   "metadata": {},
   "source": [
    "### **Residual Standard Error** \n",
    "--- "
   ]
  },
  {
   "cell_type": "markdown",
   "id": "d28389d6-38ac-4438-b699-83a824b11b66",
   "metadata": {},
   "source": [
    "It estimates the standard deviation of *regression error* which is the irreducible error $\\epsilon$"
   ]
  },
  {
   "cell_type": "code",
   "execution_count": 28,
   "id": "f97238cf-8a5f-4182-b3ac-64d61a3819e8",
   "metadata": {},
   "outputs": [],
   "source": [
    "def residual_standard_error(RSS, p, n):\n",
    "    if n - p - 1 <= 0:\n",
    "        raise ValueError(\"Degrees of freedom <= 0 Check n and p\")\n",
    "    RSE = np.sqrt(RSS / (n - p - 1))\n",
    "    return RSE"
   ]
  },
  {
   "cell_type": "markdown",
   "id": "06722d24-a841-4f8d-99a7-7bca3da7bee2",
   "metadata": {},
   "source": [
    "- Lower values of `RSE` indicate tighter fit and less unexplained varriability which imply that our regression explains most of it\n",
    "- Higher values of `RSE` indicate a poor fit"
   ]
  },
  {
   "cell_type": "code",
   "execution_count": 29,
   "id": "44c010d2-c6e6-4bff-90a7-28f8c18ca205",
   "metadata": {},
   "outputs": [
    {
     "name": "stdout",
     "output_type": "stream",
     "text": [
      "the Residual Standard Error for our model is 1.0151\n"
     ]
    }
   ],
   "source": [
    "RSE = residual_standard_error(RSS,3,10000)\n",
    "print(f\"the Residual Standard Error for our model is {RSE:.4f}\")"
   ]
  },
  {
   "cell_type": "markdown",
   "id": "55239b3a-6407-48c4-b12b-e442aa45d2fc",
   "metadata": {},
   "source": [
    "### **R-Squared**\n",
    "--- \n",
    "Its an alternative measure of fit, that is propotional to **variance** in $Y$ including both `RSS` and `TSS`"
   ]
  },
  {
   "cell_type": "code",
   "execution_count": 30,
   "id": "31e2de7c-ff22-46c2-b371-abd134ba336a",
   "metadata": {},
   "outputs": [],
   "source": [
    "def r_squared(RSS, TSS):\n",
    "    r_squared = 1 - (RSS / TSS)\n",
    "    if not (0 <= r_squared <= 1):\n",
    "        raise ValueError(\"Error happened while computing R_sqaured\")\n",
    "    return r_squared"
   ]
  },
  {
   "cell_type": "code",
   "execution_count": 31,
   "id": "5b1795ee-c7a9-4095-84fb-ccde92289c01",
   "metadata": {},
   "outputs": [
    {
     "name": "stdout",
     "output_type": "stream",
     "text": [
      "The R-Squared of our odel is 0.8852\n"
     ]
    }
   ],
   "source": [
    "R2= r_squared(RSS,TSS)\n",
    "print(f\"The R-Squared of our odel is {R2:.4f}\")"
   ]
  },
  {
   "cell_type": "markdown",
   "id": "9658823a-2875-4157-ba1f-ddc29b1eddad",
   "metadata": {},
   "source": [
    "- The closer to $1$ means that the model explain much of the **variablity** in the origianl data\n",
    "-  Closer to $0$ indicates that either the model doesn't fit well or the **irreducible** error $\\epsilon$ is too high or both "
   ]
  },
  {
   "cell_type": "markdown",
   "id": "56c61b01-8b7e-4847-a3e9-68289d5575f2",
   "metadata": {},
   "source": [
    "### **Standard Error Response** \n",
    "---\n",
    "\n",
    "Before calculating the **Confidence interval** for the **Mean Response** and **Prediction interval** for a **New Observation**"
   ]
  },
  {
   "cell_type": "code",
   "execution_count": 32,
   "id": "b16bfa6e-ae16-4c0b-93a5-90486e2f0ff4",
   "metadata": {},
   "outputs": [],
   "source": [
    "def standard_error_reponse(X0, MSE, gram_matrix,p):\n",
    "    \n",
    "    if gram_matrix.shape != (p, p):\n",
    "        raise ValueError(f\"Gram matrix shape {gram_matrix.shape}\")\n",
    "        \n",
    "    if MSE < 0:\n",
    "        raise ValueError(\"MSE is zero or negative\")\n",
    "        \n",
    "    if not is_invertible(gram_matrix):\n",
    "        raise ValueError(\"The gram fucntion is singular\")\n",
    "        \n",
    "    inv_gram_matrix = np.linalg.inv(gram_matrix)\n",
    "    X0_transpose = X0.T"
   ]
  },
  {
   "cell_type": "markdown",
   "id": "eb3d5b78-3d6e-4f1c-b7b3-e047b328277f",
   "metadata": {},
   "source": [
    "- Before calculating the Standard Error $SE()$ in new reponse $Y_{0}$ and in the predicted response $Y_{0} - \\hat{Y_{0}}$\n",
    "- We perform some checks on the value of $MSE$ and the invertibility  of the  $\\text{Gram Matrix}$ and calculating the **Transpose** of the new unseen predictor $X_{0}$"
   ]
  },
  {
   "cell_type": "code",
   "execution_count": 33,
   "id": "ec997a53-3b67-4755-9f5b-2032ce55ad46",
   "metadata": {},
   "outputs": [],
   "source": [
    "def standard_error_response(X0, MSE, gram_matrix,p):\n",
    "    \n",
    "    if gram_matrix.shape != (p, p):\n",
    "        raise ValueError(f\"Gram matrix shape {gram_matrix.shape}\")\n",
    "        \n",
    "    if MSE < 0:\n",
    "        raise ValueError(\"MSE is zero or negative\")\n",
    "        \n",
    "    if not is_invertible(gram_matrix):\n",
    "        raise ValueError(\"The gram fucntion is singular\")\n",
    "        \n",
    "    inv_gram_matrix = np.linalg.inv(gram_matrix)\n",
    "    X0_transpose = X0.T\n",
    "    \n",
    "    var_Y0 = MSE * (X0_transpose @ inv_gram_matrix @ X0) \n",
    "    var_Y0_hat = MSE * (1 + X0_transpose @ inv_gram_matrix @ X0)\n",
    "    \n",
    "    se_Y0_hat = np.sqrt(var_Y0_hat)\n",
    "    se_Y0 = np.sqrt(var_Y0)\n",
    "    \n",
    "    return var_Y0, se_Y0, var_Y0_hat, se_Y0_hat"
   ]
  },
  {
   "cell_type": "markdown",
   "id": "266b4714-aedd-4c31-9043-3d941989549c",
   "metadata": {},
   "source": [
    "- Following the formula of $\\text{Variance}$ for $Y_{0}$ and $Y_{0}-\\hat{Y_{0}}$\n",
    "- Inserting the square root $\\to$ We get the **Standard Error** in both the new unseen **Response** and the error in the predicted new unseen response"
   ]
  },
  {
   "cell_type": "code",
   "execution_count": 34,
   "id": "2fbcfe71-9475-477b-8746-024fe3e15156",
   "metadata": {},
   "outputs": [
    {
     "name": "stdout",
     "output_type": "stream",
     "text": [
      "the new vector of unseen responses are : [-2.6329 -2.5631 -0.6166 ... -3.4306 -3.1839 -2.9512]\n"
     ]
    }
   ],
   "source": [
    "X0 = np.random.normal(size=(3,)) \n",
    "\n",
    "Y0 = X0 @ beta_true + noise \n",
    "print(f\"the new vector of unseen responses are : {Y0}\")"
   ]
  },
  {
   "cell_type": "markdown",
   "id": "8177f08a-f059-4e6b-9df4-37e0da4cc971",
   "metadata": {},
   "source": [
    "- Generating new unseen Predictor $X_0$ and $Y_0$"
   ]
  },
  {
   "cell_type": "code",
   "execution_count": 35,
   "id": "9cd5ac32-f3ed-41e6-9df5-06730dc4861a",
   "metadata": {},
   "outputs": [
    {
     "name": "stdout",
     "output_type": "stream",
     "text": [
      "The new predicted unseen response = -2.1222\n"
     ]
    }
   ],
   "source": [
    "Y0_hat = X0@ beta_hat_ols.flatten()\n",
    "print(f\"The new predicted unseen response = {Y0_hat:.4f}\")"
   ]
  },
  {
   "cell_type": "code",
   "execution_count": 36,
   "id": "363f4242-e79b-43bc-9e52-9e53a74ef836",
   "metadata": {},
   "outputs": [
    {
     "name": "stdout",
     "output_type": "stream",
     "text": [
      "The standard error in mean response is 0.0257\n",
      "The standard error in a unseen predicted response is 1.0154\n"
     ]
    }
   ],
   "source": [
    "var_Y0,se_Y0,var_Y0_hat, se_Y0_hat = standard_error_response(X0,MSE,gram_matrix,3)\n",
    "print(f\"The standard error in mean response is {se_Y0:.4f}\")\n",
    "print(f\"The standard error in a unseen predicted response is {se_Y0_hat:.4f}\")"
   ]
  },
  {
   "cell_type": "code",
   "execution_count": 37,
   "id": "2e34e2f4-8340-480d-a808-f5f80b867ead",
   "metadata": {},
   "outputs": [
    {
     "data": {
      "text/plain": [
       "array([-0.8412,  1.7797, -1.5749])"
      ]
     },
     "execution_count": 37,
     "metadata": {},
     "output_type": "execute_result"
    }
   ],
   "source": [
    "X0\n"
   ]
  },
  {
   "cell_type": "code",
   "execution_count": 38,
   "id": "c2a99d12-58ac-4f4f-9525-096cbc317197",
   "metadata": {},
   "outputs": [
    {
     "data": {
      "text/plain": [
       "np.float64(-2.1221906066947156)"
      ]
     },
     "execution_count": 38,
     "metadata": {},
     "output_type": "execute_result"
    }
   ],
   "source": [
    "Y0_hat"
   ]
  },
  {
   "cell_type": "markdown",
   "id": "f10829af-13aa-41e5-aacf-b5c5d0d0a65e",
   "metadata": {},
   "source": [
    "### **Confidence Interval for Mean Response $Y_{0}$**\n",
    "---\n",
    "\n",
    "Here we estimate the interval which the **True meann** for a new response $Y_{0}$ will fall on, Simply what is the average value a new response will most likely fall"
   ]
  },
  {
   "cell_type": "code",
   "execution_count": 39,
   "id": "ae0c2a82-658f-4587-b07a-3324b48cc697",
   "metadata": {},
   "outputs": [],
   "source": [
    "def confidence_interval_mean_response(Y0_hat, se_Y0, df, t_table):\n",
    "    \n",
    "    closest_df = min(t_table, key=lambda x: abs(x - df))\n",
    "    t_value = t_table[closest_df]\n",
    "    \n",
    "    upper_bound = Y0_hat + (t_value * se_Y0)\n",
    "    lower_bound = Y0_hat - (t_value * se_Y0)\n",
    "    \n",
    "    response_mean_cl = np.stack((lower_bound, upper_bound))\n",
    "    \n",
    "    return response_mean_cl"
   ]
  },
  {
   "cell_type": "markdown",
   "id": "70c7395c-c930-4f73-bd8a-e178668c6bce",
   "metadata": {},
   "source": [
    "- Since its a sample data we will use the **t-score** again to calculate the interval upper and lower bound "
   ]
  },
  {
   "cell_type": "code",
   "execution_count": 40,
   "id": "20b177a8-c39d-41cc-b013-13aecac7f84b",
   "metadata": {},
   "outputs": [
    {
     "name": "stdout",
     "output_type": "stream",
     "text": [
      "The confidence interval for mean response : [-5.3531  1.1087]\n"
     ]
    }
   ],
   "source": [
    "mean_CI = confidence_interval_mean_response(Y0_hat,se_Y0_hat,3,t_table)\n",
    "print(f\"The confidence interval for mean response : {mean_CI}\")"
   ]
  },
  {
   "cell_type": "markdown",
   "id": "8aa0d9a9-7b74-4b84-9095-3abcd95a966c",
   "metadata": {},
   "source": [
    "- This is a $95\\%$ confidence interval for the mean response $\\hat{Y_0}$\n",
    "- In simpler terms we expect the average value of $\\hat{Y_0}$ with $95\\%$ to be in that interval"
   ]
  },
  {
   "cell_type": "markdown",
   "id": "77bbaf92-d98a-4518-93df-db8a30c5ca23",
   "metadata": {},
   "source": [
    "### **Prediction Interval for New Response $Y_0$**\n",
    "---\n",
    "\n",
    "Estimate the range which a **single new** $Y_0$ drawn at $X_0$ willl fall, taking into account the model + error term of it, Its not the average unlike the **Confidence interval for mean response** "
   ]
  },
  {
   "cell_type": "code",
   "execution_count": 41,
   "id": "13690bf1-61ea-4785-9c25-03756c3b8249",
   "metadata": {},
   "outputs": [],
   "source": [
    "def prediction_interval_reponse(Y0_hat,se_Y0_hat,MSE,df,t_table):\n",
    "    closest_df = min(t_table, key = lambda x: abs(x-df))\n",
    "    t_value = t_table[closest_df]\n",
    "\n",
    "    pred_se = np.sqrt(se_Y0_hat**2+MSE)\n",
    "\n",
    "    upper_bound = Y0_hat + (t_value*pred_se)\n",
    "    lower_bound = Y0_hat - (t_value*pred_se)\n",
    "\n",
    "    prediction_interval = np.stack((lower_bound,upper_bound))\n",
    "    \n",
    "    return prediction_interval"
   ]
  },
  {
   "cell_type": "code",
   "execution_count": 42,
   "id": "dfd94708-60ac-429a-8464-a4b370668d59",
   "metadata": {},
   "outputs": [
    {
     "name": "stdout",
     "output_type": "stream",
     "text": [
      "This is the Prediction interval for new response [-6.6906  2.4462]\n"
     ]
    }
   ],
   "source": [
    "pre_interval = prediction_interval_reponse(Y0_hat, se_Y0_hat,MSE,3,t_table)\n",
    "print(f\"This is the Prediction interval for new response {pre_interval}\")"
   ]
  },
  {
   "cell_type": "markdown",
   "id": "205cd21a-7f86-490b-a2b7-2d88885c75a9",
   "metadata": {},
   "source": [
    "- As you can notice the prediction interval is always wider than the confidence interval cause it takes into account the error term which represented by **MSE**\n",
    "- Reminder that `MSE` is the estimated value for $\\sigma^2$"
   ]
  },
  {
   "cell_type": "markdown",
   "id": "d617712f-c392-4d8a-8fcd-c542d399385b",
   "metadata": {},
   "source": [
    "# **Real Data Applied**\n",
    "---\n",
    "\n",
    "- Unlike the `Dummy data` we used when applying the core concepts of **Linear Regression**\n",
    "- Using Real world Data will help to expand this implementation to the next level by :\n",
    "    - Assumptions & Diagnostics Testing\n",
    "    - Handling **Outliers**\n",
    "    - Identfying **High Leverage Points**\n",
    "    - Dealing with **Multicolinearity**"
   ]
  },
  {
   "cell_type": "code",
   "execution_count": 78,
   "id": "a40c00f2-b6d0-4e2e-8fdd-447dacca5d3a",
   "metadata": {},
   "outputs": [],
   "source": [
    "import pandas as pd"
   ]
  },
  {
   "cell_type": "markdown",
   "id": "81f7bbf1-09cf-4536-b5d2-37171fdf7e65",
   "metadata": {},
   "source": [
    "- For more advance diagnostics and realistic application of the Linear Regression model we built so far we importing **pands** which is a powerful library for data manipulation and analysis\n",
    "- in the `Data set` Folder we gonna load `College.csv` which is data  collected of american colleges including the `Application` they get each year , `Acceptance`,`PhD`, `Books` etc... "
   ]
  },
  {
   "cell_type": "code",
   "execution_count": 79,
   "id": "8f1f496d-12cc-4239-adf3-ebae6fe4f44a",
   "metadata": {},
   "outputs": [
    {
     "data": {
      "text/html": [
       "<div>\n",
       "<style scoped>\n",
       "    .dataframe tbody tr th:only-of-type {\n",
       "        vertical-align: middle;\n",
       "    }\n",
       "\n",
       "    .dataframe tbody tr th {\n",
       "        vertical-align: top;\n",
       "    }\n",
       "\n",
       "    .dataframe thead th {\n",
       "        text-align: right;\n",
       "    }\n",
       "</style>\n",
       "<table border=\"1\" class=\"dataframe\">\n",
       "  <thead>\n",
       "    <tr style=\"text-align: right;\">\n",
       "      <th></th>\n",
       "      <th>Unnamed: 0</th>\n",
       "      <th>Private</th>\n",
       "      <th>Apps</th>\n",
       "      <th>Accept</th>\n",
       "      <th>Enroll</th>\n",
       "      <th>Top10perc</th>\n",
       "      <th>Top25perc</th>\n",
       "      <th>F.Undergrad</th>\n",
       "      <th>P.Undergrad</th>\n",
       "      <th>Outstate</th>\n",
       "      <th>Room.Board</th>\n",
       "      <th>Books</th>\n",
       "      <th>Personal</th>\n",
       "      <th>PhD</th>\n",
       "      <th>Terminal</th>\n",
       "      <th>S.F.Ratio</th>\n",
       "      <th>perc.alumni</th>\n",
       "      <th>Expend</th>\n",
       "      <th>Grad.Rate</th>\n",
       "    </tr>\n",
       "  </thead>\n",
       "  <tbody>\n",
       "    <tr>\n",
       "      <th>0</th>\n",
       "      <td>Abilene Christian University</td>\n",
       "      <td>Yes</td>\n",
       "      <td>1660</td>\n",
       "      <td>1232</td>\n",
       "      <td>721</td>\n",
       "      <td>23</td>\n",
       "      <td>52</td>\n",
       "      <td>2885</td>\n",
       "      <td>537</td>\n",
       "      <td>7440</td>\n",
       "      <td>3300</td>\n",
       "      <td>450</td>\n",
       "      <td>2200</td>\n",
       "      <td>70</td>\n",
       "      <td>78</td>\n",
       "      <td>18.1</td>\n",
       "      <td>12</td>\n",
       "      <td>7041</td>\n",
       "      <td>60</td>\n",
       "    </tr>\n",
       "    <tr>\n",
       "      <th>1</th>\n",
       "      <td>Adelphi University</td>\n",
       "      <td>Yes</td>\n",
       "      <td>2186</td>\n",
       "      <td>1924</td>\n",
       "      <td>512</td>\n",
       "      <td>16</td>\n",
       "      <td>29</td>\n",
       "      <td>2683</td>\n",
       "      <td>1227</td>\n",
       "      <td>12280</td>\n",
       "      <td>6450</td>\n",
       "      <td>750</td>\n",
       "      <td>1500</td>\n",
       "      <td>29</td>\n",
       "      <td>30</td>\n",
       "      <td>12.2</td>\n",
       "      <td>16</td>\n",
       "      <td>10527</td>\n",
       "      <td>56</td>\n",
       "    </tr>\n",
       "    <tr>\n",
       "      <th>2</th>\n",
       "      <td>Adrian College</td>\n",
       "      <td>Yes</td>\n",
       "      <td>1428</td>\n",
       "      <td>1097</td>\n",
       "      <td>336</td>\n",
       "      <td>22</td>\n",
       "      <td>50</td>\n",
       "      <td>1036</td>\n",
       "      <td>99</td>\n",
       "      <td>11250</td>\n",
       "      <td>3750</td>\n",
       "      <td>400</td>\n",
       "      <td>1165</td>\n",
       "      <td>53</td>\n",
       "      <td>66</td>\n",
       "      <td>12.9</td>\n",
       "      <td>30</td>\n",
       "      <td>8735</td>\n",
       "      <td>54</td>\n",
       "    </tr>\n",
       "    <tr>\n",
       "      <th>3</th>\n",
       "      <td>Agnes Scott College</td>\n",
       "      <td>Yes</td>\n",
       "      <td>417</td>\n",
       "      <td>349</td>\n",
       "      <td>137</td>\n",
       "      <td>60</td>\n",
       "      <td>89</td>\n",
       "      <td>510</td>\n",
       "      <td>63</td>\n",
       "      <td>12960</td>\n",
       "      <td>5450</td>\n",
       "      <td>450</td>\n",
       "      <td>875</td>\n",
       "      <td>92</td>\n",
       "      <td>97</td>\n",
       "      <td>7.7</td>\n",
       "      <td>37</td>\n",
       "      <td>19016</td>\n",
       "      <td>59</td>\n",
       "    </tr>\n",
       "    <tr>\n",
       "      <th>4</th>\n",
       "      <td>Alaska Pacific University</td>\n",
       "      <td>Yes</td>\n",
       "      <td>193</td>\n",
       "      <td>146</td>\n",
       "      <td>55</td>\n",
       "      <td>16</td>\n",
       "      <td>44</td>\n",
       "      <td>249</td>\n",
       "      <td>869</td>\n",
       "      <td>7560</td>\n",
       "      <td>4120</td>\n",
       "      <td>800</td>\n",
       "      <td>1500</td>\n",
       "      <td>76</td>\n",
       "      <td>72</td>\n",
       "      <td>11.9</td>\n",
       "      <td>2</td>\n",
       "      <td>10922</td>\n",
       "      <td>15</td>\n",
       "    </tr>\n",
       "    <tr>\n",
       "      <th>...</th>\n",
       "      <td>...</td>\n",
       "      <td>...</td>\n",
       "      <td>...</td>\n",
       "      <td>...</td>\n",
       "      <td>...</td>\n",
       "      <td>...</td>\n",
       "      <td>...</td>\n",
       "      <td>...</td>\n",
       "      <td>...</td>\n",
       "      <td>...</td>\n",
       "      <td>...</td>\n",
       "      <td>...</td>\n",
       "      <td>...</td>\n",
       "      <td>...</td>\n",
       "      <td>...</td>\n",
       "      <td>...</td>\n",
       "      <td>...</td>\n",
       "      <td>...</td>\n",
       "      <td>...</td>\n",
       "    </tr>\n",
       "    <tr>\n",
       "      <th>772</th>\n",
       "      <td>Worcester State College</td>\n",
       "      <td>No</td>\n",
       "      <td>2197</td>\n",
       "      <td>1515</td>\n",
       "      <td>543</td>\n",
       "      <td>4</td>\n",
       "      <td>26</td>\n",
       "      <td>3089</td>\n",
       "      <td>2029</td>\n",
       "      <td>6797</td>\n",
       "      <td>3900</td>\n",
       "      <td>500</td>\n",
       "      <td>1200</td>\n",
       "      <td>60</td>\n",
       "      <td>60</td>\n",
       "      <td>21.0</td>\n",
       "      <td>14</td>\n",
       "      <td>4469</td>\n",
       "      <td>40</td>\n",
       "    </tr>\n",
       "    <tr>\n",
       "      <th>773</th>\n",
       "      <td>Xavier University</td>\n",
       "      <td>Yes</td>\n",
       "      <td>1959</td>\n",
       "      <td>1805</td>\n",
       "      <td>695</td>\n",
       "      <td>24</td>\n",
       "      <td>47</td>\n",
       "      <td>2849</td>\n",
       "      <td>1107</td>\n",
       "      <td>11520</td>\n",
       "      <td>4960</td>\n",
       "      <td>600</td>\n",
       "      <td>1250</td>\n",
       "      <td>73</td>\n",
       "      <td>75</td>\n",
       "      <td>13.3</td>\n",
       "      <td>31</td>\n",
       "      <td>9189</td>\n",
       "      <td>83</td>\n",
       "    </tr>\n",
       "    <tr>\n",
       "      <th>774</th>\n",
       "      <td>Xavier University of Louisiana</td>\n",
       "      <td>Yes</td>\n",
       "      <td>2097</td>\n",
       "      <td>1915</td>\n",
       "      <td>695</td>\n",
       "      <td>34</td>\n",
       "      <td>61</td>\n",
       "      <td>2793</td>\n",
       "      <td>166</td>\n",
       "      <td>6900</td>\n",
       "      <td>4200</td>\n",
       "      <td>617</td>\n",
       "      <td>781</td>\n",
       "      <td>67</td>\n",
       "      <td>75</td>\n",
       "      <td>14.4</td>\n",
       "      <td>20</td>\n",
       "      <td>8323</td>\n",
       "      <td>49</td>\n",
       "    </tr>\n",
       "    <tr>\n",
       "      <th>775</th>\n",
       "      <td>Yale University</td>\n",
       "      <td>Yes</td>\n",
       "      <td>10705</td>\n",
       "      <td>2453</td>\n",
       "      <td>1317</td>\n",
       "      <td>95</td>\n",
       "      <td>99</td>\n",
       "      <td>5217</td>\n",
       "      <td>83</td>\n",
       "      <td>19840</td>\n",
       "      <td>6510</td>\n",
       "      <td>630</td>\n",
       "      <td>2115</td>\n",
       "      <td>96</td>\n",
       "      <td>96</td>\n",
       "      <td>5.8</td>\n",
       "      <td>49</td>\n",
       "      <td>40386</td>\n",
       "      <td>99</td>\n",
       "    </tr>\n",
       "    <tr>\n",
       "      <th>776</th>\n",
       "      <td>York College of Pennsylvania</td>\n",
       "      <td>Yes</td>\n",
       "      <td>2989</td>\n",
       "      <td>1855</td>\n",
       "      <td>691</td>\n",
       "      <td>28</td>\n",
       "      <td>63</td>\n",
       "      <td>2988</td>\n",
       "      <td>1726</td>\n",
       "      <td>4990</td>\n",
       "      <td>3560</td>\n",
       "      <td>500</td>\n",
       "      <td>1250</td>\n",
       "      <td>75</td>\n",
       "      <td>75</td>\n",
       "      <td>18.1</td>\n",
       "      <td>28</td>\n",
       "      <td>4509</td>\n",
       "      <td>99</td>\n",
       "    </tr>\n",
       "  </tbody>\n",
       "</table>\n",
       "<p>777 rows × 19 columns</p>\n",
       "</div>"
      ],
      "text/plain": [
       "                         Unnamed: 0 Private   Apps  Accept  Enroll  Top10perc  \\\n",
       "0      Abilene Christian University     Yes   1660    1232     721         23   \n",
       "1                Adelphi University     Yes   2186    1924     512         16   \n",
       "2                    Adrian College     Yes   1428    1097     336         22   \n",
       "3               Agnes Scott College     Yes    417     349     137         60   \n",
       "4         Alaska Pacific University     Yes    193     146      55         16   \n",
       "..                              ...     ...    ...     ...     ...        ...   \n",
       "772         Worcester State College      No   2197    1515     543          4   \n",
       "773               Xavier University     Yes   1959    1805     695         24   \n",
       "774  Xavier University of Louisiana     Yes   2097    1915     695         34   \n",
       "775                 Yale University     Yes  10705    2453    1317         95   \n",
       "776    York College of Pennsylvania     Yes   2989    1855     691         28   \n",
       "\n",
       "     Top25perc  F.Undergrad  P.Undergrad  Outstate  Room.Board  Books  \\\n",
       "0           52         2885          537      7440        3300    450   \n",
       "1           29         2683         1227     12280        6450    750   \n",
       "2           50         1036           99     11250        3750    400   \n",
       "3           89          510           63     12960        5450    450   \n",
       "4           44          249          869      7560        4120    800   \n",
       "..         ...          ...          ...       ...         ...    ...   \n",
       "772         26         3089         2029      6797        3900    500   \n",
       "773         47         2849         1107     11520        4960    600   \n",
       "774         61         2793          166      6900        4200    617   \n",
       "775         99         5217           83     19840        6510    630   \n",
       "776         63         2988         1726      4990        3560    500   \n",
       "\n",
       "     Personal  PhD  Terminal  S.F.Ratio  perc.alumni  Expend  Grad.Rate  \n",
       "0        2200   70        78       18.1           12    7041         60  \n",
       "1        1500   29        30       12.2           16   10527         56  \n",
       "2        1165   53        66       12.9           30    8735         54  \n",
       "3         875   92        97        7.7           37   19016         59  \n",
       "4        1500   76        72       11.9            2   10922         15  \n",
       "..        ...  ...       ...        ...          ...     ...        ...  \n",
       "772      1200   60        60       21.0           14    4469         40  \n",
       "773      1250   73        75       13.3           31    9189         83  \n",
       "774       781   67        75       14.4           20    8323         49  \n",
       "775      2115   96        96        5.8           49   40386         99  \n",
       "776      1250   75        75       18.1           28    4509         99  \n",
       "\n",
       "[777 rows x 19 columns]"
      ]
     },
     "execution_count": 79,
     "metadata": {},
     "output_type": "execute_result"
    }
   ],
   "source": [
    "Data = pd.read_csv('../Data-Set/College.csv')\n",
    "Data"
   ]
  },
  {
   "cell_type": "markdown",
   "id": "b6332d79-d0d6-420b-b974-ea4e476d08a5",
   "metadata": {},
   "source": [
    "- We gonna be building a simple Multiple Linear Regression off this data\n"
   ]
  },
  {
   "cell_type": "markdown",
   "id": "6ab6681d-94b8-4911-a7b1-4014c90592c7",
   "metadata": {},
   "source": [
    "## Goal\n",
    "--- \n",
    "- Predict the **acceptance rate** of the college using :\n",
    "    - Whether College is **private** or **Public**\n",
    "    - **Number of applications** \n",
    "    - **Out-of-State tuition**  "
   ]
  },
  {
   "cell_type": "markdown",
   "id": "08b14aad-27a3-44f4-8874-085124aafeb6",
   "metadata": {},
   "source": [
    "## Design Matrix\n",
    "--- "
   ]
  },
  {
   "cell_type": "code",
   "execution_count": 80,
   "id": "c7733e54-4ba0-4ed7-a3ed-85e7d9a91eb4",
   "metadata": {},
   "outputs": [
    {
     "data": {
      "text/plain": [
       "Index(['Unnamed: 0', 'Private', 'Apps', 'Accept', 'Enroll', 'Top10perc',\n",
       "       'Top25perc', 'F.Undergrad', 'P.Undergrad', 'Outstate', 'Room.Board',\n",
       "       'Books', 'Personal', 'PhD', 'Terminal', 'S.F.Ratio', 'perc.alumni',\n",
       "       'Expend', 'Grad.Rate'],\n",
       "      dtype='object')"
      ]
     },
     "execution_count": 80,
     "metadata": {},
     "output_type": "execute_result"
    }
   ],
   "source": [
    "Data.columns"
   ]
  },
  {
   "cell_type": "code",
   "execution_count": 164,
   "id": "163da06b-22cb-43bc-ac15-b175251de2b1",
   "metadata": {},
   "outputs": [],
   "source": [
    "def design_matrix(data_frame):\n",
    "    for type in data_frame.dtypes:\n",
    "        print(type)\n",
    "        if type != ('int64'or 'float64'):\n",
    "            raise ValueError(\"Design matrix can't contain non numirical values\")\n",
    "    X_raw = data_frame.to_numpy()\n",
    "    intercept = np.ones((data_frame.shape[0],1))\n",
    "    design_matrix = np.hstack([intercept,data_frame])\n",
    "    return design_matrix"
   ]
  },
  {
   "cell_type": "code",
   "execution_count": 165,
   "id": "076677ab-cd9e-482f-9a9a-25d1d05b306a",
   "metadata": {},
   "outputs": [
    {
     "name": "stdout",
     "output_type": "stream",
     "text": [
      "Private     int64\n",
      "Apps        int64\n",
      "Outstate    int64\n",
      "dtype: object\n",
      "meow\n"
     ]
    }
   ],
   "source": [
    "data_frame = Data[['Private','Apps','Outstate']].copy()\n",
    "data_frame['Private'] = data_frame['Private'].map({'Yes':1,'No':0})\n",
    "print(data_frame.dtypes)\n",
    "if data_frame['Private'].dtypes == 'int64':\n",
    "    print('meow')\n"
   ]
  },
  {
   "cell_type": "code",
   "execution_count": 166,
   "id": "fdb7955e-8dc5-4e2e-b9a4-90dc57b09dbf",
   "metadata": {},
   "outputs": [
    {
     "name": "stdout",
     "output_type": "stream",
     "text": [
      "int64\n",
      "int64\n",
      "int64\n"
     ]
    },
    {
     "data": {
      "text/plain": [
       "array([[    1.,     1.,  1660.,  7440.],\n",
       "       [    1.,     1.,  2186., 12280.],\n",
       "       [    1.,     1.,  1428., 11250.],\n",
       "       ...,\n",
       "       [    1.,     1.,  2097.,  6900.],\n",
       "       [    1.,     1., 10705., 19840.],\n",
       "       [    1.,     1.,  2989.,  4990.]], shape=(777, 4))"
      ]
     },
     "execution_count": 166,
     "metadata": {},
     "output_type": "execute_result"
    }
   ],
   "source": [
    "design_matrix = design_matrix(data_frame)\n",
    "design_matrix"
   ]
  },
  {
   "cell_type": "markdown",
   "id": "d70bb7b3-b8ee-4c85-808c-b63c90934899",
   "metadata": {},
   "source": [
    "- The `design_matrix` function takes on a `data_frame` from pandas and turn it into a numpy array\n",
    "\n",
    "**Note** : Its better to do it with **Pandas** data frame but for sake for the *From scratch implementation* its transformed into numpy matrix"
   ]
  },
  {
   "cell_type": "code",
   "execution_count": 167,
   "id": "e389259b-f901-40f8-8e2c-6ed446e8e213",
   "metadata": {},
   "outputs": [],
   "source": [
    "Y_raw = Data['Accept']/Data['Apps']\n",
    "Y_raw\n",
    "acceptance_rate =Y_raw.to_numpy().reshape(-1,1)"
   ]
  },
  {
   "cell_type": "markdown",
   "id": "0ccdf75a-b0ca-4e1d-b26f-2eb2e43dc58d",
   "metadata": {},
   "source": [
    "- Calculating the `acceptance_rate` for all observations $n$(Colleges) which is the **response** our regression model try to predict\n",
    "- `reshape(-1,1)` to reshape it into a column vector of true **responses** $Y$\n",
    "- Which allow us to calculate the estimated coefficients $beta$ for each predictor *Private*, *Number of applications* ,*Out of state tuition*"
   ]
  },
  {
   "cell_type": "code",
   "execution_count": 168,
   "id": "8823265e-fb87-4790-8aa6-19c359c9e85c",
   "metadata": {},
   "outputs": [
    {
     "data": {
      "text/plain": [
       "array([[ 0.8687],\n",
       "       [ 0.0292],\n",
       "       [-0.    ],\n",
       "       [-0.    ]])"
      ]
     },
     "execution_count": 168,
     "metadata": {},
     "output_type": "execute_result"
    }
   ],
   "source": [
    "beta_hat , gram_matrix = ols_estimate(design_matrix,acceptance_rate)\n",
    "beta_hat"
   ]
  },
  {
   "cell_type": "code",
   "execution_count": null,
   "id": "5ed93d4f-22da-4d01-aabd-5864c992ff83",
   "metadata": {},
   "outputs": [],
   "source": []
  }
 ],
 "metadata": {
  "kernelspec": {
   "display_name": "Python 3 (ipykernel)",
   "language": "python",
   "name": "python3"
  },
  "language_info": {
   "codemirror_mode": {
    "name": "ipython",
    "version": 3
   },
   "file_extension": ".py",
   "mimetype": "text/x-python",
   "name": "python",
   "nbconvert_exporter": "python",
   "pygments_lexer": "ipython3",
   "version": "3.12.3"
  }
 },
 "nbformat": 4,
 "nbformat_minor": 5
}
